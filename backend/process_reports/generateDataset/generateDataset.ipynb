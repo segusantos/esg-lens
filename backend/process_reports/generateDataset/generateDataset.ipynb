{
 "cells": [
  {
   "cell_type": "markdown",
   "metadata": {},
   "source": [
    "### This notebook generates the initial dataset for the project \n",
    "\n",
    "- process 60 ESG reports, about 7000 pages of pdf files"
   ]
  },
  {
   "cell_type": "code",
   "execution_count": 1,
   "metadata": {},
   "outputs": [],
   "source": [
    "# autoreload imports\n",
    "%load_ext autoreload\n",
    "%autoreload 2"
   ]
  },
  {
   "cell_type": "code",
   "execution_count": 3,
   "metadata": {},
   "outputs": [],
   "source": [
    "# Parse all esg reports to text using aws textract\n",
    "\n",
    "import os\n",
    "import random\n",
    "from textract import extractTextFromPdf\n",
    "\n",
    "path = os.path.join('..','data', 'reports')\n",
    "\n",
    "# files = os.listdir(path)\n",
    "files5 = [\n",
    "    'AuSol_Memoria_y_Estados_Financieros_2023.pdf',\n",
    "    'Grupo MR 2022-2023.pdf',\n",
    "    'Pampa-2022-Reporte-Sustentabilidad.pdf',\n",
    "    'Telecom Argentina - Infografia_Memoria Anual Integrada 2022.pdf',\n",
    "    'Central Puerto-Reporte-de-Sustentabilidad-2023-VF.pdf'\n",
    "]\n",
    "\n",
    "\n",
    "for file in files5:\n",
    "    outputFile = os.path.join('..','data', 'texts', file.replace('.pdf', '.txt'))\n",
    "\n",
    "    if file.endswith('.pdf') and not os.path.exists(outputFile):\n",
    "        \n",
    "        # extract text from pdf\n",
    "        print(f'\\n[+] Extracting text from {file}')\n",
    "        text = extractTextFromPdf(os.path.join(path, file))\n",
    "        \n",
    "        # save text to file in data/texts\n",
    "        with open(outputFile, 'w') as f:\n",
    "            f.write(text)"
   ]
  },
  {
   "cell_type": "code",
   "execution_count": 9,
   "metadata": {},
   "outputs": [
    {
     "name": "stdout",
     "output_type": "stream",
     "text": [
      "\n",
      "[+] Generating summary for AuSol_Memoria_y_Estados_Financieros_2023.pdf\n",
      "[+] ESG report parsed and uploaded successfully\n",
      "[*] Generating summary...\n"
     ]
    }
   ],
   "source": [
    "# Generate structured summaries \n",
    "from summary import getSummary\n",
    "from getClient import getClient\n",
    "import json\n",
    "\n",
    "client = getClient(os.path.join('..','openai_key.txt'))\n",
    "\n",
    "for file in files5:\n",
    "    outputFile = os.path.join('..','data', 'summaries', file.replace('.pdf', '.json'))\n",
    "\n",
    "    if file.endswith('.pdf') and not os.path.exists(outputFile):\n",
    "        \n",
    "        # extract text from pdf\n",
    "        print(f'\\n[+] Generating summary for {file}')\n",
    "        summary = getSummary(os.path.join('..','data', 'texts', file.replace('.pdf', '.txt')), client, \"..\")\n",
    "        \n",
    "        # save summary to file in data/summaries as a json file\n",
    "        with open(outputFile, 'w') as f:\n",
    "            json.dump(summary, f, indent=4)"
   ]
  },
  {
   "cell_type": "code",
   "execution_count": 11,
   "metadata": {},
   "outputs": [
    {
     "name": "stdout",
     "output_type": "stream",
     "text": [
      "\n",
      "[+] Generating guideline feedback for AuSol_Memoria_y_Estados_Financieros_2023.pdf\n",
      "[+] ESG report uploaded successfully\n",
      "[*] Generating feedback on guideline...\n",
      "\n",
      "[+] Generating guideline feedback for Grupo MR 2022-2023.pdf\n",
      "[+] ESG report uploaded successfully\n",
      "[*] Generating feedback on guideline...\n",
      "\n",
      "[+] Generating guideline feedback for Telecom Argentina - Infografia_Memoria Anual Integrada 2022.pdf\n",
      "[+] ESG report uploaded successfully\n",
      "[*] Generating feedback on guideline...\n",
      "\n",
      "[+] Generating guideline feedback for Central Puerto-Reporte-de-Sustentabilidad-2023-VF.pdf\n",
      "[+] ESG report uploaded successfully\n",
      "[*] Generating feedback on guideline...\n"
     ]
    }
   ],
   "source": [
    "# Generate guideline feedback\n",
    "from guidelines import getGuidelineFeedback\n",
    "\n",
    "for file in files5:\n",
    "    outputFile = os.path.join('..','data', 'feedbackGuideline', file.replace('.pdf', '.txt'))\n",
    "\n",
    "    if file.endswith('.pdf') and not os.path.exists(outputFile):\n",
    "        \n",
    "        \n",
    "        print(f'\\n[+] Generating guideline feedback for {file}')\n",
    "        feedback = getGuidelineFeedback(os.path.join('..','data', 'texts', file.replace('.pdf', '.txt')), client, \"..\")\n",
    "        \n",
    "        # save feedback to file in data/feedback as a txt file\n",
    "        with open(outputFile, 'w') as f:\n",
    "            f.write(feedback)"
   ]
  },
  {
   "cell_type": "code",
   "execution_count": 14,
   "metadata": {},
   "outputs": [
    {
     "name": "stdout",
     "output_type": "stream",
     "text": [
      "\n",
      "[+] Generating conclusions for Telecom Argentina - Infografia_Memoria Anual Integrada 2022.pdf\n",
      "[+] ESG report uploaded successfully\n",
      "[*] Generating feedback on guideline...\n",
      "\n",
      "[+] Generating conclusions for Central Puerto-Reporte-de-Sustentabilidad-2023-VF.pdf\n",
      "[+] ESG report uploaded successfully\n",
      "[*] Generating feedback on guideline...\n"
     ]
    }
   ],
   "source": [
    "# Generate final conclusions\n",
    "from conclusions import getConclusion\n",
    "\n",
    "for file in files5:\n",
    "    outputFile = os.path.join('..','data', 'conclusions', file.replace('.pdf', '.txt'))\n",
    "\n",
    "    if file.endswith('.pdf') and not os.path.exists(outputFile):\n",
    "        \n",
    "        print(f'\\n[+] Generating conclusions for {file}')\n",
    "        conclusions = getConclusion(os.path.join('..','data', 'texts', file.replace('.pdf', '.txt')), client, \"..\")\n",
    "        \n",
    "        # save conclusions to file in data/conclusions as a txt file\n",
    "        with open(outputFile, 'w') as f:\n",
    "            f.write(conclusions)"
   ]
  }
 ],
 "metadata": {
  "kernelspec": {
   "display_name": "hackitba2025",
   "language": "python",
   "name": "python3"
  },
  "language_info": {
   "codemirror_mode": {
    "name": "ipython",
    "version": 3
   },
   "file_extension": ".py",
   "mimetype": "text/x-python",
   "name": "python",
   "nbconvert_exporter": "python",
   "pygments_lexer": "ipython3",
   "version": "3.13.2"
  }
 },
 "nbformat": 4,
 "nbformat_minor": 2
}
